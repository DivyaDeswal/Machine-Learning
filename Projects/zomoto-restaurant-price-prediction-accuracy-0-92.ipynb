{
 "cells": [
  {
   "cell_type": "markdown",
   "id": "3bcd14f6",
   "metadata": {
    "papermill": {
     "duration": 0.015634,
     "end_time": "2024-02-22T07:07:25.218718",
     "exception": false,
     "start_time": "2024-02-22T07:07:25.203084",
     "status": "completed"
    },
    "tags": []
   },
   "source": [
    "# Zomoto Price Prediction Analysis:\n",
    "\n",
    "Zomoto is one of the online food ordering applications, dominating marketplaces in India’s most populous country. Zomato provides restaurant information, menus, and user ratings, as well as food delivery choices from partner restaurants. According to sources, Zomoto is active in over 1,000 Indian cities and towns as of 2022–23. By utilizing the dataset of Banglore, one of the fastest developing cities and one of the most ordered cities online. The dataset of Banglore city hotels listed on Zomoto includes dining information that determines the factor of Average Pricing for 2 people."
   ]
  },
  {
   "cell_type": "markdown",
   "id": "3df3dd09",
   "metadata": {
    "papermill": {
     "duration": 0.012923,
     "end_time": "2024-02-22T07:07:25.245121",
     "exception": false,
     "start_time": "2024-02-22T07:07:25.232198",
     "status": "completed"
    },
    "tags": []
   },
   "source": [
    "# About the Dataset:\n",
    "\n",
    "The dataset is 550 MB in size with a shape of 51717 different Restaurants at different locations and 17 features of them. The 17 different columns indicate:\n",
    "\n",
    "URL: The link to the Restaurant\n",
    "Address: The restaurant where it is situated\n",
    "Name: The Name of the Restaurant\n",
    "Online Orders: Whether Online orders are available or not\n",
    "Book Table: Can we book a table at the restaurant\n",
    "Rate: The customer Rating of the restaurant\n",
    "Votes: The number of customers rated the restaurant\n",
    "Phone: The phone number of the restaurant\n",
    "Location: The Area in which the restaurant is located\n",
    "Restaurant Type: The type of restaurant in terms of style\n",
    "Dishes Liked: The most liked dishes of the restaurant\n",
    "Cuisines: The cuisines that they serve\n",
    "Approximate Cost: The cost for 2 people to spend to eat\n",
    "Review List: The reviews of the restaurant\n",
    "Menu Items: The dishes that they serve\n",
    "Listed in type: The Category of restaurant(Delivery/ Dine-Out/Buffet etc…)\n",
    "Listed in city: The name of the area at which they are located in the city"
   ]
  },
  {
   "cell_type": "markdown",
   "id": "7a302b78",
   "metadata": {
    "papermill": {
     "duration": 0.013268,
     "end_time": "2024-02-22T07:07:25.272201",
     "exception": false,
     "start_time": "2024-02-22T07:07:25.258933",
     "status": "completed"
    },
    "tags": []
   },
   "source": [
    "# Necessary Libraries for Data Analysis:\n",
    "\n",
    "The Python libraries that we are using for data analysis:\n",
    "\n",
    "Pandas\n",
    "NumPy\n",
    "matplotlib\n",
    "Seaborn\n",
    "Scikit-learn"
   ]
  },
  {
   "cell_type": "markdown",
   "id": "4d5cbb09",
   "metadata": {
    "papermill": {
     "duration": 0.013981,
     "end_time": "2024-02-22T07:07:25.299676",
     "exception": false,
     "start_time": "2024-02-22T07:07:25.285695",
     "status": "completed"
    },
    "tags": []
   },
   "source": [
    "# Importing the listed library:"
   ]
  },
  {
   "cell_type": "code",
   "execution_count": 1,
   "id": "db8e1be3",
   "metadata": {
    "execution": {
     "iopub.execute_input": "2024-02-22T07:07:25.328506Z",
     "iopub.status.busy": "2024-02-22T07:07:25.327999Z",
     "iopub.status.idle": "2024-02-22T07:07:28.660721Z",
     "shell.execute_reply": "2024-02-22T07:07:28.658923Z"
    },
    "papermill": {
     "duration": 3.350821,
     "end_time": "2024-02-22T07:07:28.663707",
     "exception": false,
     "start_time": "2024-02-22T07:07:25.312886",
     "status": "completed"
    },
    "tags": []
   },
   "outputs": [],
   "source": [
    "# %% Import all the necessary:\n",
    "\n",
    "import numpy as np\n",
    "import pandas as pd\n",
    "from matplotlib.cbook import boxplot_stats\n",
    "import matplotlib.pyplot as plt\n",
    "import seaborn as sn\n",
    "from sklearn.impute import SimpleImputer\n",
    "from sklearn.linear_model import LinearRegression\n",
    "from sklearn.ensemble import RandomForestRegressor\n",
    "from sklearn.ensemble import ExtraTreesRegressor\n",
    "import xgboost as xg\n",
    "from sklearn.model_selection import train_test_split\n",
    "from sklearn.compose import ColumnTransformer\n",
    "from sklearn.preprocessing import LabelEncoder, MinMaxScaler\n",
    "from sklearn.preprocessing import OneHotEncoder\n",
    "from sklearn.metrics import r2_score"
   ]
  },
  {
   "cell_type": "markdown",
   "id": "0beca965",
   "metadata": {
    "papermill": {
     "duration": 0.012971,
     "end_time": "2024-02-22T07:07:28.690265",
     "exception": false,
     "start_time": "2024-02-22T07:07:28.677294",
     "status": "completed"
    },
    "tags": []
   },
   "source": [
    "# Loading the datasets:\n",
    "\n",
    "I have attached the csv files in my GitHub link, given below. To load the datasets, we use the pandas library:"
   ]
  },
  {
   "cell_type": "code",
   "execution_count": 2,
   "id": "849e95d2",
   "metadata": {
    "execution": {
     "iopub.execute_input": "2024-02-22T07:07:28.719053Z",
     "iopub.status.busy": "2024-02-22T07:07:28.718114Z",
     "iopub.status.idle": "2024-02-22T07:07:43.091660Z",
     "shell.execute_reply": "2024-02-22T07:07:43.090458Z"
    },
    "papermill": {
     "duration": 14.390988,
     "end_time": "2024-02-22T07:07:43.094573",
     "exception": false,
     "start_time": "2024-02-22T07:07:28.703585",
     "status": "completed"
    },
    "tags": []
   },
   "outputs": [],
   "source": [
    "# %% Getting the datasets:\n",
    "\n",
    "data = pd.read_csv(\"/kaggle/input/zomato/zomato.csv\")"
   ]
  },
  {
   "cell_type": "markdown",
   "id": "b5936ee2",
   "metadata": {
    "papermill": {
     "duration": 0.013229,
     "end_time": "2024-02-22T07:07:43.121227",
     "exception": false,
     "start_time": "2024-02-22T07:07:43.107998",
     "status": "completed"
    },
    "tags": []
   },
   "source": [
    "# Getting the basic info of the dataset:\n",
    "\n",
    "We will use the pandas to get the basic details of both the train and test datasets such as their data types, null value if any, and their statistical values of continuous columns."
   ]
  },
  {
   "cell_type": "code",
   "execution_count": 3,
   "id": "7699f041",
   "metadata": {
    "execution": {
     "iopub.execute_input": "2024-02-22T07:07:43.150752Z",
     "iopub.status.busy": "2024-02-22T07:07:43.150341Z",
     "iopub.status.idle": "2024-02-22T07:07:45.462966Z",
     "shell.execute_reply": "2024-02-22T07:07:45.461483Z"
    },
    "papermill": {
     "duration": 2.330284,
     "end_time": "2024-02-22T07:07:45.465554",
     "exception": false,
     "start_time": "2024-02-22T07:07:43.135270",
     "status": "completed"
    },
    "tags": []
   },
   "outputs": [
    {
     "name": "stdout",
     "output_type": "stream",
     "text": [
      "<class 'pandas.core.frame.DataFrame'>\n",
      "RangeIndex: 51717 entries, 0 to 51716\n",
      "Data columns (total 17 columns):\n",
      " #   Column                       Non-Null Count  Dtype \n",
      "---  ------                       --------------  ----- \n",
      " 0   url                          51717 non-null  object\n",
      " 1   address                      51717 non-null  object\n",
      " 2   name                         51717 non-null  object\n",
      " 3   online_order                 51717 non-null  object\n",
      " 4   book_table                   51717 non-null  object\n",
      " 5   rate                         43942 non-null  object\n",
      " 6   votes                        51717 non-null  int64 \n",
      " 7   phone                        50509 non-null  object\n",
      " 8   location                     51696 non-null  object\n",
      " 9   rest_type                    51490 non-null  object\n",
      " 10  dish_liked                   23639 non-null  object\n",
      " 11  cuisines                     51672 non-null  object\n",
      " 12  approx_cost(for two people)  51371 non-null  object\n",
      " 13  reviews_list                 51717 non-null  object\n",
      " 14  menu_item                    51717 non-null  object\n",
      " 15  listed_in(type)              51717 non-null  object\n",
      " 16  listed_in(city)              51717 non-null  object\n",
      "dtypes: int64(1), object(16)\n",
      "memory usage: 6.7+ MB\n",
      "None\n",
      "(51717, 17)\n",
      "url                                0\n",
      "address                            0\n",
      "name                               0\n",
      "online_order                       0\n",
      "book_table                         0\n",
      "rate                            7775\n",
      "votes                              0\n",
      "phone                           1208\n",
      "location                          21\n",
      "rest_type                        227\n",
      "dish_liked                     28078\n",
      "cuisines                          45\n",
      "approx_cost(for two people)      346\n",
      "reviews_list                       0\n",
      "menu_item                          0\n",
      "listed_in(type)                    0\n",
      "listed_in(city)                    0\n",
      "dtype: int64\n",
      "0\n"
     ]
    }
   ],
   "source": [
    "# %% Getting the basic details of train:\n",
    "\n",
    "print(data.info())\n",
    "stats = data.describe()\n",
    "print(data.shape)\n",
    "print(data.isna().sum())\n",
    "print(data.duplicated().sum())"
   ]
  },
  {
   "cell_type": "markdown",
   "id": "6f302192",
   "metadata": {
    "papermill": {
     "duration": 0.013182,
     "end_time": "2024-02-22T07:07:45.492754",
     "exception": false,
     "start_time": "2024-02-22T07:07:45.479572",
     "status": "completed"
    },
    "tags": []
   },
   "source": [
    "# Data Cleaning:\n",
    "\n",
    "# Miscellaneous Columns:\n",
    "\n",
    "In this dataset, there are a lot of unwanted columns which is not necessary for our data analysis and price prediction. So we removed some of the irrelevant columns to our analysis project."
   ]
  },
  {
   "cell_type": "code",
   "execution_count": 4,
   "id": "d244eacf",
   "metadata": {
    "execution": {
     "iopub.execute_input": "2024-02-22T07:07:45.527524Z",
     "iopub.status.busy": "2024-02-22T07:07:45.527083Z",
     "iopub.status.idle": "2024-02-22T07:07:45.628333Z",
     "shell.execute_reply": "2024-02-22T07:07:45.626847Z"
    },
    "papermill": {
     "duration": 0.120708,
     "end_time": "2024-02-22T07:07:45.631290",
     "exception": false,
     "start_time": "2024-02-22T07:07:45.510582",
     "status": "completed"
    },
    "tags": []
   },
   "outputs": [
    {
     "name": "stdout",
     "output_type": "stream",
     "text": [
      "<class 'pandas.core.frame.DataFrame'>\n",
      "RangeIndex: 51717 entries, 0 to 51716\n",
      "Data columns (total 12 columns):\n",
      " #   Column                       Non-Null Count  Dtype \n",
      "---  ------                       --------------  ----- \n",
      " 0   address                      51717 non-null  object\n",
      " 1   name                         51717 non-null  object\n",
      " 2   online_order                 51717 non-null  object\n",
      " 3   book_table                   51717 non-null  object\n",
      " 4   rate                         43942 non-null  object\n",
      " 5   votes                        51717 non-null  int64 \n",
      " 6   location                     51696 non-null  object\n",
      " 7   rest_type                    51490 non-null  object\n",
      " 8   cuisines                     51672 non-null  object\n",
      " 9   approx_cost(for two people)  51371 non-null  object\n",
      " 10  listed_in(type)              51717 non-null  object\n",
      " 11  listed_in(city)              51717 non-null  object\n",
      "dtypes: int64(1), object(11)\n",
      "memory usage: 4.7+ MB\n",
      "None\n"
     ]
    }
   ],
   "source": [
    "# %% Removing Unnecessary Columns: [By Logical]\n",
    "\n",
    "data.drop(['url', 'reviews_list', 'menu_item', 'phone', 'dish_liked'], axis=1, inplace=True)\n",
    "print(data.info())"
   ]
  },
  {
   "cell_type": "markdown",
   "id": "fb7e51a9",
   "metadata": {
    "papermill": {
     "duration": 0.013756,
     "end_time": "2024-02-22T07:07:45.659481",
     "exception": false,
     "start_time": "2024-02-22T07:07:45.645725",
     "status": "completed"
    },
    "tags": []
   },
   "source": [
    "# Miscellaneous Data Values:\n",
    "\n",
    "In the columns of the dataset, some of the values contain miscellaneous values causing inconsistencies in the dataset. Such data should be dealt with carelessly by making them uniform. For instance, in the Rating column, some of the new restaurants having fewer votes are categorized as NEW in the rating column. All the restaurants have it in numerical form, hence we convert all these NEW values into Nan values."
   ]
  },
  {
   "cell_type": "code",
   "execution_count": 5,
   "id": "8cbae88d",
   "metadata": {
    "execution": {
     "iopub.execute_input": "2024-02-22T07:07:45.689290Z",
     "iopub.status.busy": "2024-02-22T07:07:45.688849Z",
     "iopub.status.idle": "2024-02-22T07:07:45.837213Z",
     "shell.execute_reply": "2024-02-22T07:07:45.835889Z"
    },
    "papermill": {
     "duration": 0.166101,
     "end_time": "2024-02-22T07:07:45.839901",
     "exception": false,
     "start_time": "2024-02-22T07:07:45.673800",
     "status": "completed"
    },
    "tags": []
   },
   "outputs": [
    {
     "name": "stdout",
     "output_type": "stream",
     "text": [
      "The NEW values: \n",
      "address                           0\n",
      "name                              0\n",
      "online_order                      0\n",
      "book_table                        0\n",
      "rate                           2208\n",
      "votes                             0\n",
      "location                          0\n",
      "rest_type                         0\n",
      "cuisines                          0\n",
      "approx_cost(for two people)       0\n",
      "listed_in(type)                   0\n",
      "listed_in(city)                   0\n",
      "dtype: int64\n",
      "The NEW values: \n",
      "address                        0\n",
      "name                           0\n",
      "online_order                   0\n",
      "book_table                     0\n",
      "rate                           0\n",
      "votes                          0\n",
      "location                       0\n",
      "rest_type                      0\n",
      "cuisines                       0\n",
      "approx_cost(for two people)    0\n",
      "listed_in(type)                0\n",
      "listed_in(city)                0\n",
      "dtype: int64\n"
     ]
    }
   ],
   "source": [
    "# Making NEW values in rate column as Nan values:\n",
    "\n",
    "print('The NEW values: ')\n",
    "print(data.isin(['NEW']).sum())\n",
    "data.replace('NEW', np.nan, inplace=True)\n",
    "print('The NEW values: ')\n",
    "print(data.isin(['NEW']).sum())"
   ]
  },
  {
   "cell_type": "markdown",
   "id": "8d6d729c",
   "metadata": {
    "papermill": {
     "duration": 0.013333,
     "end_time": "2024-02-22T07:07:45.867306",
     "exception": false,
     "start_time": "2024-02-22T07:07:45.853973",
     "status": "completed"
    },
    "tags": []
   },
   "source": [
    "By this, we convert all the NEW rated values in the rate column into Nan values.\n",
    "\n",
    "In the same rate column, the restaurant data have a “-” value which is again converted into Nan values to make it more skewed. For the other restaurants with zero votes with the rate of Nan values, we treated them as outliers and removed them from the dataset. All the rate values in the dataset are in the form of fractions such as a/b. Thus the rate values are converted into numerical form by applying a function that divides and replaces the rating fractions."
   ]
  },
  {
   "cell_type": "code",
   "execution_count": 6,
   "id": "170dbfd2",
   "metadata": {
    "execution": {
     "iopub.execute_input": "2024-02-22T07:07:45.896621Z",
     "iopub.status.busy": "2024-02-22T07:07:45.896184Z",
     "iopub.status.idle": "2024-02-22T07:07:45.902301Z",
     "shell.execute_reply": "2024-02-22T07:07:45.901457Z"
    },
    "papermill": {
     "duration": 0.023448,
     "end_time": "2024-02-22T07:07:45.904581",
     "exception": false,
     "start_time": "2024-02-22T07:07:45.881133",
     "status": "completed"
    },
    "tags": []
   },
   "outputs": [],
   "source": [
    "def rater(val, delimiter: str = \"/\"):\n",
    "    if type(val) != type(np.nan):\n",
    "        n, d = list(map(np.float64, val.split(delimiter)))\n",
    "        return n / d"
   ]
  },
  {
   "cell_type": "code",
   "execution_count": 7,
   "id": "bb49f8ef",
   "metadata": {
    "execution": {
     "iopub.execute_input": "2024-02-22T07:07:45.934745Z",
     "iopub.status.busy": "2024-02-22T07:07:45.934318Z",
     "iopub.status.idle": "2024-02-22T07:07:46.092401Z",
     "shell.execute_reply": "2024-02-22T07:07:46.091230Z"
    },
    "papermill": {
     "duration": 0.176774,
     "end_time": "2024-02-22T07:07:46.095495",
     "exception": false,
     "start_time": "2024-02-22T07:07:45.918721",
     "status": "completed"
    },
    "tags": []
   },
   "outputs": [
    {
     "name": "stderr",
     "output_type": "stream",
     "text": [
      "/tmp/ipykernel_18/3202238028.py:4: FutureWarning: A value is trying to be set on a copy of a DataFrame or Series through chained assignment using an inplace method.\n",
      "The behavior will change in pandas 3.0. This inplace method will never work because the intermediate object on which we are setting values always behaves as a copy.\n",
      "\n",
      "For example, when doing 'df[col].method(value, inplace=True)', try using 'df.method({col: value}, inplace=True)' or df[col] = df[col].method(value) instead, to perform the operation inplace on the original object.\n",
      "\n",
      "\n",
      "  data['rate'].replace('nan', np.nan, inplace=True)\n",
      "/tmp/ipykernel_18/3202238028.py:5: FutureWarning: A value is trying to be set on a copy of a DataFrame or Series through chained assignment using an inplace method.\n",
      "The behavior will change in pandas 3.0. This inplace method will never work because the intermediate object on which we are setting values always behaves as a copy.\n",
      "\n",
      "For example, when doing 'df[col].method(value, inplace=True)', try using 'df.method({col: value}, inplace=True)' or df[col] = df[col].method(value) instead, to perform the operation inplace on the original object.\n",
      "\n",
      "\n",
      "  data['rate'].replace('-', np.nan, inplace=True)\n",
      "/tmp/ipykernel_18/3202238028.py:12: FutureWarning: A value is trying to be set on a copy of a DataFrame or Series through chained assignment using an inplace method.\n",
      "The behavior will change in pandas 3.0. This inplace method will never work because the intermediate object on which we are setting values always behaves as a copy.\n",
      "\n",
      "For example, when doing 'df[col].method(value, inplace=True)', try using 'df.method({col: value}, inplace=True)' or df[col] = df[col].method(value) instead, to perform the operation inplace on the original object.\n",
      "\n",
      "\n",
      "  data['rate'].replace(np.nan, 0, inplace=True)\n"
     ]
    }
   ],
   "source": [
    "# Making rate column as numerical from it is miscellaneous form:\n",
    "\n",
    "data['rate'].astype(object)\n",
    "data['rate'].replace('nan', np.nan, inplace=True)\n",
    "data['rate'].replace('-', np.nan, inplace=True)\n",
    "outlier = data[data['rate'].isna()]\n",
    "outlier = outlier[outlier['votes'] != 0]\n",
    "outlier = outlier.iloc[:, 3:5]\n",
    "data.drop(outlier.index, inplace=True)\n",
    "data.reset_index(drop=True)\n",
    "data['rate'] = data['rate'].apply(rater)\n",
    "data['rate'].replace(np.nan, 0, inplace=True)"
   ]
  },
  {
   "cell_type": "markdown",
   "id": "3a846a7e",
   "metadata": {
    "papermill": {
     "duration": 0.014856,
     "end_time": "2024-02-22T07:07:46.124718",
     "exception": false,
     "start_time": "2024-02-22T07:07:46.109862",
     "status": "completed"
    },
    "tags": []
   },
   "source": [
    "The last instance in this dataset is the Approximate cost of dining in which the numbers with thousands have “,” in between them. For example, instead of 1000, the dataset has 1,000 resulting in a string. So we operate to remove that comma from the cost."
   ]
  },
  {
   "cell_type": "code",
   "execution_count": 8,
   "id": "1c1ed542",
   "metadata": {
    "execution": {
     "iopub.execute_input": "2024-02-22T07:07:46.155230Z",
     "iopub.status.busy": "2024-02-22T07:07:46.154495Z",
     "iopub.status.idle": "2024-02-22T07:07:46.196147Z",
     "shell.execute_reply": "2024-02-22T07:07:46.195052Z"
    },
    "papermill": {
     "duration": 0.059862,
     "end_time": "2024-02-22T07:07:46.198840",
     "exception": false,
     "start_time": "2024-02-22T07:07:46.138978",
     "status": "completed"
    },
    "tags": []
   },
   "outputs": [
    {
     "name": "stderr",
     "output_type": "stream",
     "text": [
      "/tmp/ipykernel_18/1929337911.py:6: FutureWarning: A value is trying to be set on a copy of a DataFrame or Series through chained assignment using an inplace method.\n",
      "The behavior will change in pandas 3.0. This inplace method will never work because the intermediate object on which we are setting values always behaves as a copy.\n",
      "\n",
      "For example, when doing 'df[col].method(value, inplace=True)', try using 'df.method({col: value}, inplace=True)' or df[col] = df[col].method(value) instead, to perform the operation inplace on the original object.\n",
      "\n",
      "\n",
      "  data['approx_cost(for two people)'].replace('nan', np.nan, inplace=True)\n"
     ]
    }
   ],
   "source": [
    "# Making approx cost to numerical form:\n",
    "\n",
    "data['approx_cost(for two people)'] = data['approx_cost(for two people)'].astype(str)\n",
    "data['approx_cost(for two people)'] = data['approx_cost(for two people)'].str.replace(',', '')\n",
    "data['approx_cost(for two people)'].astype(object)\n",
    "data['approx_cost(for two people)'].replace('nan', np.nan, inplace=True)"
   ]
  },
  {
   "cell_type": "markdown",
   "id": "aff94586",
   "metadata": {
    "papermill": {
     "duration": 0.013764,
     "end_time": "2024-02-22T07:07:46.226855",
     "exception": false,
     "start_time": "2024-02-22T07:07:46.213091",
     "status": "completed"
    },
    "tags": []
   },
   "source": [
    "# Nan Values:\n",
    "\n",
    "After dealing with all the Miscellaneous data, let’s deal with the Nan values of the dataset. We checked the Nan values, the columns of Location, rest_type, cuisines, and Approximate Cost. As all the Nan value counts are less than 5% of the total data present, we would replace all the Nan values in all 4 columns by the SimpleImputer method."
   ]
  },
  {
   "cell_type": "code",
   "execution_count": 9,
   "id": "cff5f2ff",
   "metadata": {
    "execution": {
     "iopub.execute_input": "2024-02-22T07:07:46.256825Z",
     "iopub.status.busy": "2024-02-22T07:07:46.256405Z",
     "iopub.status.idle": "2024-02-22T07:07:46.261428Z",
     "shell.execute_reply": "2024-02-22T07:07:46.260292Z"
    },
    "papermill": {
     "duration": 0.022748,
     "end_time": "2024-02-22T07:07:46.263776",
     "exception": false,
     "start_time": "2024-02-22T07:07:46.241028",
     "status": "completed"
    },
    "tags": []
   },
   "outputs": [],
   "source": [
    "# %% Importing the SimpleImputer:\n",
    "\n",
    "from sklearn.impute import SimpleImputer"
   ]
  },
  {
   "cell_type": "markdown",
   "id": "cc01c492",
   "metadata": {
    "papermill": {
     "duration": 0.013615,
     "end_time": "2024-02-22T07:07:46.292501",
     "exception": false,
     "start_time": "2024-02-22T07:07:46.278886",
     "status": "completed"
    },
    "tags": []
   },
   "source": [
    "# Approx_Cost for 2 people — Median Technique:\n",
    "\n",
    "The approx_cost column in the dataset, the type of column is a continuous type of data. This column has around 343 Nan values, which should be replaced by the Median value of the whole column to make use of the missing data to increase the accuracy of the prediction."
   ]
  },
  {
   "cell_type": "code",
   "execution_count": 10,
   "id": "e9a80e38",
   "metadata": {
    "execution": {
     "iopub.execute_input": "2024-02-22T07:07:46.322303Z",
     "iopub.status.busy": "2024-02-22T07:07:46.321847Z",
     "iopub.status.idle": "2024-02-22T07:07:46.413431Z",
     "shell.execute_reply": "2024-02-22T07:07:46.412191Z"
    },
    "papermill": {
     "duration": 0.109425,
     "end_time": "2024-02-22T07:07:46.416060",
     "exception": false,
     "start_time": "2024-02-22T07:07:46.306635",
     "status": "completed"
    },
    "tags": []
   },
   "outputs": [
    {
     "name": "stdout",
     "output_type": "stream",
     "text": [
      "location                        21\n",
      "rest_type                      227\n",
      "cuisines                        45\n",
      "approx_cost(for two people)    343\n",
      "dtype: int64\n"
     ]
    }
   ],
   "source": [
    "# %% Performing operations for the remaining null values:\n",
    "\n",
    "impute_data = data.isna().sum()\n",
    "impute_data = impute_data[impute_data != 0]\n",
    "print(impute_data)\n",
    "\n",
    "# In this, we have 2 columns of categorical and 1 continuously:\n",
    "\n",
    "impute_data = impute_data\n",
    "Impute = SimpleImputer(strategy='median')\n",
    "data['approx_cost(for two people)'] = Impute.fit_transform(data['approx_cost(for two people)'].to_numpy().reshape((-1, 1)))"
   ]
  },
  {
   "cell_type": "markdown",
   "id": "be413f8b",
   "metadata": {
    "papermill": {
     "duration": 0.014174,
     "end_time": "2024-02-22T07:07:46.444492",
     "exception": false,
     "start_time": "2024-02-22T07:07:46.430318",
     "status": "completed"
    },
    "tags": []
   },
   "source": [
    "# Cuisines and rest_type — Mode Technique:\n",
    "\n",
    "The columns cuisines and rest_type are categorical data columns containing Nan values of count 45 and 227. Thus, data Nan values are dealt with by the mode values of that particular column. To do it in a specific manner, we are using grouping to fill the Nan values of the columns with columns with which they have a positive correlation. For example, In filling the rest_type column Nan values, we utilize approx_cost column values for the grouping process, which would be used to replace with more accurate values. For filling the cuisine’s Nan values, by using rest_type, we will replace and deal with the Nan values."
   ]
  },
  {
   "cell_type": "code",
   "execution_count": 11,
   "id": "c0ea68e3",
   "metadata": {
    "execution": {
     "iopub.execute_input": "2024-02-22T07:07:46.475099Z",
     "iopub.status.busy": "2024-02-22T07:07:46.474725Z",
     "iopub.status.idle": "2024-02-22T07:07:46.676044Z",
     "shell.execute_reply": "2024-02-22T07:07:46.674472Z"
    },
    "papermill": {
     "duration": 0.219878,
     "end_time": "2024-02-22T07:07:46.678803",
     "exception": false,
     "start_time": "2024-02-22T07:07:46.458925",
     "status": "completed"
    },
    "tags": []
   },
   "outputs": [
    {
     "name": "stdout",
     "output_type": "stream",
     "text": [
      "address                         0\n",
      "name                            0\n",
      "online_order                    0\n",
      "book_table                      0\n",
      "rate                            0\n",
      "votes                           0\n",
      "location                       21\n",
      "rest_type                       0\n",
      "cuisines                        0\n",
      "approx_cost(for two people)     0\n",
      "listed_in(type)                 0\n",
      "listed_in(city)                 0\n",
      "dtype: int64\n"
     ]
    },
    {
     "name": "stderr",
     "output_type": "stream",
     "text": [
      "/tmp/ipykernel_18/2821695780.py:4: FutureWarning: A value is trying to be set on a copy of a DataFrame or Series through chained assignment using an inplace method.\n",
      "The behavior will change in pandas 3.0. This inplace method will never work because the intermediate object on which we are setting values always behaves as a copy.\n",
      "\n",
      "For example, when doing 'df[col].method(value, inplace=True)', try using 'df.method({col: value}, inplace=True)' or df[col] = df[col].method(value) instead, to perform the operation inplace on the original object.\n",
      "\n",
      "\n",
      "  data['rest_type'].fillna(data.groupby('approx_cost(for two people)')['rest_type'].transform(mode), inplace=True)\n",
      "/tmp/ipykernel_18/2821695780.py:5: FutureWarning: A value is trying to be set on a copy of a DataFrame or Series through chained assignment using an inplace method.\n",
      "The behavior will change in pandas 3.0. This inplace method will never work because the intermediate object on which we are setting values always behaves as a copy.\n",
      "\n",
      "For example, when doing 'df[col].method(value, inplace=True)', try using 'df.method({col: value}, inplace=True)' or df[col] = df[col].method(value) instead, to perform the operation inplace on the original object.\n",
      "\n",
      "\n",
      "  data['cuisines'].fillna(data.groupby('rest_type')['cuisines'].transform(mode), inplace=True)\n"
     ]
    }
   ],
   "source": [
    "# %% Replacing the Nan values of cuisines and rest_type:\n",
    "\n",
    "mode = lambda x: x.mode().iloc[0] if not x.mode().empty else None\n",
    "data['rest_type'].fillna(data.groupby('approx_cost(for two people)')['rest_type'].transform(mode), inplace=True)\n",
    "data['cuisines'].fillna(data.groupby('rest_type')['cuisines'].transform(mode), inplace=True)\n",
    "print(data.isna().sum())"
   ]
  },
  {
   "cell_type": "markdown",
   "id": "adfe0043",
   "metadata": {
    "papermill": {
     "duration": 0.014463,
     "end_time": "2024-02-22T07:07:46.708085",
     "exception": false,
     "start_time": "2024-02-22T07:07:46.693622",
     "status": "completed"
    },
    "tags": []
   },
   "source": [
    "# Outliers Removal:\n",
    "The dataset is still with some outliers which may cause us deviations during the process of predictions and results in the occurance of lower accuracy levels. The dataset still has some outliers that may cause deviations during the process of predictions, leading us to the occurrence of lower accuracy levels. To detect the outliers, we use:"
   ]
  },
  {
   "cell_type": "code",
   "execution_count": 12,
   "id": "1d74b68b",
   "metadata": {
    "execution": {
     "iopub.execute_input": "2024-02-22T07:07:46.739165Z",
     "iopub.status.busy": "2024-02-22T07:07:46.738717Z",
     "iopub.status.idle": "2024-02-22T07:07:47.197192Z",
     "shell.execute_reply": "2024-02-22T07:07:47.196098Z"
    },
    "papermill": {
     "duration": 0.477367,
     "end_time": "2024-02-22T07:07:47.200142",
     "exception": false,
     "start_time": "2024-02-22T07:07:46.722775",
     "status": "completed"
    },
    "tags": []
   },
   "outputs": [
    {
     "data": {
      "image/png": "[encoded data removed]",
      "text/plain": [
       "<Figure size 640x480 with 1 Axes>"
      ]
     },
     "metadata": {},
     "output_type": "display_data"
    }
   ],
   "source": [
    "# %% The library used for removing outliers:\n",
    "\n",
    "from matplotlib.cbook import boxplot_stats\n",
    "\n",
    "# %% Anomaly Detection and Outliers:\n",
    "\n",
    "sn.boxplot(data=data, color=\"lightgreen\")\n",
    "plt.show()\n",
    "\n",
    "# %% Removing the detected outliers:\n",
    "\n",
    "outliers = (boxplot_stats(data[data.columns[[4, 5, 9]]]))\n",
    "outliers = pd.DataFrame(outliers)['fliers']\n",
    "data = data[~data['rate'].isin(outliers[0])]\n",
    "data.dropna(subset='location', inplace=True)"
   ]
  },
  {
   "cell_type": "markdown",
   "id": "884dc947",
   "metadata": {
    "papermill": {
     "duration": 0.014723,
     "end_time": "2024-02-22T07:07:47.230117",
     "exception": false,
     "start_time": "2024-02-22T07:07:47.215394",
     "status": "completed"
    },
    "tags": []
   },
   "source": [
    "# Creating More Important Columns:\n",
    "\n",
    "In the dataset, we have a column of rest_type and cuisines having to be a list value that cannot be used for inputting into the Machine Learning Model. Thus we use the simple function by which we replace it into numerical value by the types of availability replacing it."
   ]
  },
  {
   "cell_type": "code",
   "execution_count": 13,
   "id": "4b9fa437",
   "metadata": {
    "execution": {
     "iopub.execute_input": "2024-02-22T07:07:47.262838Z",
     "iopub.status.busy": "2024-02-22T07:07:47.261630Z",
     "iopub.status.idle": "2024-02-22T07:07:47.507187Z",
     "shell.execute_reply": "2024-02-22T07:07:47.505962Z"
    },
    "papermill": {
     "duration": 0.265137,
     "end_time": "2024-02-22T07:07:47.510311",
     "exception": false,
     "start_time": "2024-02-22T07:07:47.245174",
     "status": "completed"
    },
    "tags": []
   },
   "outputs": [],
   "source": [
    "# %% Getting the number of available cuisines and restaurant type:\n",
    "\n",
    "data['cuisines'] = data['cuisines'].str.split(',')\n",
    "data['rest_type'] = data['rest_type'].str.split(',')\n",
    "data['cuisines'] = data['cuisines'].apply(lambda x: len(x)-1)\n",
    "data['rest_type'] = data['rest_type'].apply(lambda y: len(y)-1)"
   ]
  },
  {
   "cell_type": "markdown",
   "id": "fcb10dc7",
   "metadata": {
    "papermill": {
     "duration": 0.01606,
     "end_time": "2024-02-22T07:07:47.541929",
     "exception": false,
     "start_time": "2024-02-22T07:07:47.525869",
     "status": "completed"
    },
    "tags": []
   },
   "source": [
    "# Splitting the Independent Variable and Dependent Variable:\n",
    "\n",
    "In machine concept, we predict the Dependent Variable from the independent variables by various machine learning algorithms such as Logistic Regression. Before that, we need to split these from the datasets column-wise by the loc function. In this, we have Independent variables which are referred to as Predictors are all other columns except the Passenger Id and the Dependent variable also referred to as the Target Variable the Survival column. We assign the predictors columns to X_train and the targeted column to y_train from the data dataset. We assign the X_test with the test dataset which will be tested with the model. In this dataset project, by all the listed columns we are going to predict the cost for dining for 2 people."
   ]
  },
  {
   "cell_type": "code",
   "execution_count": 14,
   "id": "675173e8",
   "metadata": {
    "execution": {
     "iopub.execute_input": "2024-02-22T07:07:47.574310Z",
     "iopub.status.busy": "2024-02-22T07:07:47.573875Z",
     "iopub.status.idle": "2024-02-22T07:07:47.583698Z",
     "shell.execute_reply": "2024-02-22T07:07:47.582780Z"
    },
    "papermill": {
     "duration": 0.029026,
     "end_time": "2024-02-22T07:07:47.586180",
     "exception": false,
     "start_time": "2024-02-22T07:07:47.557154",
     "status": "completed"
    },
    "tags": []
   },
   "outputs": [],
   "source": [
    "# %% Splitting Data between Independent and Dependent:\n",
    "\n",
    "X = data[['online_order', 'book_table', 'votes', 'rate', 'listed_in(type)', 'listed_in(city)', 'location', 'cuisines', 'rest_type']]\n",
    "Y = data['approx_cost(for two people)'].values"
   ]
  },
  {
   "cell_type": "markdown",
   "id": "a8699438",
   "metadata": {
    "papermill": {
     "duration": 0.015023,
     "end_time": "2024-02-22T07:07:47.616550",
     "exception": false,
     "start_time": "2024-02-22T07:07:47.601527",
     "status": "completed"
    },
    "tags": []
   },
   "source": [
    "# Data Transformation:\n",
    "\n",
    "After splitting the data, still we need to transform the data to be more suitable for the algorithm to give the best accuracy in lesser amounts of time. Thus we are going to process the data by:\n",
    "\n",
    "# Scaling the data:\n",
    "\n",
    "The values of the Votes and Rates columns have a high range compared to other column values. Thus, the outlier values will cause inaccuracy in the prediction by the machine learning model. To counter this, we use a data preprocessing technique of MinMax Scaling to scale down the values of that column to have a lower range difference between every column between the values of 0 to 1. We apply it by importing it:"
   ]
  },
  {
   "cell_type": "code",
   "execution_count": 15,
   "id": "b11c8713",
   "metadata": {
    "execution": {
     "iopub.execute_input": "2024-02-22T07:07:47.651437Z",
     "iopub.status.busy": "2024-02-22T07:07:47.650132Z",
     "iopub.status.idle": "2024-02-22T07:07:47.664234Z",
     "shell.execute_reply": "2024-02-22T07:07:47.663143Z"
    },
    "papermill": {
     "duration": 0.034085,
     "end_time": "2024-02-22T07:07:47.666941",
     "exception": false,
     "start_time": "2024-02-22T07:07:47.632856",
     "status": "completed"
    },
    "tags": []
   },
   "outputs": [
    {
     "name": "stderr",
     "output_type": "stream",
     "text": [
      "/tmp/ipykernel_18/2669363860.py:4: FutureWarning: Setting an item of incompatible dtype is deprecated and will raise in a future error of pandas. Value '[0.04604325 0.04675618 0.05453897 ... 0.00160409 0.01402091 0.00077234]' has dtype incompatible with int64, please explicitly cast to a compatible dtype first.\n",
      "  X.iloc[:, 2:4] = sc.fit_transform(X.iloc[:, 2:4])\n"
     ]
    }
   ],
   "source": [
    "# %% Standardization of continuous data:\n",
    "\n",
    "sc = MinMaxScaler()\n",
    "X.iloc[:, 2:4] = sc.fit_transform(X.iloc[:, 2:4])\n",
    "Y = sc.fit_transform(Y.reshape((-1, 1)))"
   ]
  },
  {
   "cell_type": "markdown",
   "id": "213e8e97",
   "metadata": {
    "papermill": {
     "duration": 0.015182,
     "end_time": "2024-02-22T07:07:47.697859",
     "exception": false,
     "start_time": "2024-02-22T07:07:47.682677",
     "status": "completed"
    },
    "tags": []
   },
   "source": [
    "# Label Encoder:\n",
    "\n",
    "By importing the sklearn.preprocessing we can access the LabelEncoder to convert labeled data, the categorical data to a continuous form of data.\n",
    "\n",
    "This LabelEncoder, we use it to convert the data into a numerical form for the using that column for the prediction of approximate cost. For the Book Table and Online order categorical columns, we fit and transform these into the LabelEncoder() to into numerical."
   ]
  },
  {
   "cell_type": "code",
   "execution_count": 16,
   "id": "59a4a1f6",
   "metadata": {
    "execution": {
     "iopub.execute_input": "2024-02-22T07:07:47.731801Z",
     "iopub.status.busy": "2024-02-22T07:07:47.731318Z",
     "iopub.status.idle": "2024-02-22T07:07:47.766653Z",
     "shell.execute_reply": "2024-02-22T07:07:47.765430Z"
    },
    "papermill": {
     "duration": 0.055497,
     "end_time": "2024-02-22T07:07:47.769520",
     "exception": false,
     "start_time": "2024-02-22T07:07:47.714023",
     "status": "completed"
    },
    "tags": []
   },
   "outputs": [],
   "source": [
    "# %% Converting Categorical Values of Yes or No to Label:\n",
    "\n",
    "feature = LabelEncoder()\n",
    "X.loc[:, 'online_order'] = feature.fit_transform(X.loc[:, 'online_order'])\n",
    "X.loc[:, 'book_table'] = feature.fit_transform(X.loc[:, 'book_table'])"
   ]
  },
  {
   "cell_type": "markdown",
   "id": "9c145e75",
   "metadata": {
    "papermill": {
     "duration": 0.014872,
     "end_time": "2024-02-22T07:07:47.800189",
     "exception": false,
     "start_time": "2024-02-22T07:07:47.785317",
     "status": "completed"
    },
    "tags": []
   },
   "source": [
    "# One Hot Encoding:\n",
    "\n",
    "The categorical values such as listed_in(type), listed_in(city), and locations all these three columns have a lot of different numbers of columns. In the process of label encoding when there are more than 2 categories of data, we use the concept of onehotendoing.\n",
    "\n",
    "The One hot encoding works differently. For example, The types of restaurants such as Buffet, Cafe, and Family are the different types in a categorical data column. When one hot encoding is used, it gets converted into:\n",
    "\n",
    "1 0 0 — Buffet\n",
    "\n",
    "0 1 0 — Cafe\n",
    "\n",
    "0 0 1 — Family"
   ]
  },
  {
   "cell_type": "code",
   "execution_count": 17,
   "id": "ef8a2b84",
   "metadata": {
    "execution": {
     "iopub.execute_input": "2024-02-22T07:07:47.832611Z",
     "iopub.status.busy": "2024-02-22T07:07:47.832192Z",
     "iopub.status.idle": "2024-02-22T07:07:47.952118Z",
     "shell.execute_reply": "2024-02-22T07:07:47.950966Z"
    },
    "papermill": {
     "duration": 0.139486,
     "end_time": "2024-02-22T07:07:47.954903",
     "exception": false,
     "start_time": "2024-02-22T07:07:47.815417",
     "status": "completed"
    },
    "tags": []
   },
   "outputs": [],
   "source": [
    "# %% Converting Categorical Values into Numerical ones:\n",
    "\n",
    "ct = ColumnTransformer(transformers=[(\"encoder\", OneHotEncoder(), [4, 5, 6])], remainder=\"passthrough\")\n",
    "X_trans = (ct.fit_transform(X).toarray())"
   ]
  },
  {
   "cell_type": "markdown",
   "id": "b619e877",
   "metadata": {
    "papermill": {
     "duration": 0.014706,
     "end_time": "2024-02-22T07:07:47.984853",
     "exception": false,
     "start_time": "2024-02-22T07:07:47.970147",
     "status": "completed"
    },
    "tags": []
   },
   "source": [
    "# Fitting into the machine learning model:\n",
    "\n",
    "In any model, we first fit the data into the model by the fit(), and then we predict the value by the predict(). In fit(), we input the X_train and y_train for the data to the model. In the predict(), we input the X_test to test the Machine Learning. Then we compare the train and test datasets, to get the accuracy score."
   ]
  },
  {
   "cell_type": "code",
   "execution_count": 18,
   "id": "4a4e7fc3",
   "metadata": {
    "execution": {
     "iopub.execute_input": "2024-02-22T07:07:48.018597Z",
     "iopub.status.busy": "2024-02-22T07:07:48.018180Z",
     "iopub.status.idle": "2024-02-22T07:07:48.041109Z",
     "shell.execute_reply": "2024-02-22T07:07:48.039865Z"
    },
    "papermill": {
     "duration": 0.043657,
     "end_time": "2024-02-22T07:07:48.044088",
     "exception": false,
     "start_time": "2024-02-22T07:07:48.000431",
     "status": "completed"
    },
    "tags": []
   },
   "outputs": [],
   "source": [
    "# %% Splitting the data into train and test data:\n",
    "\n",
    "X_train, X_test, Y_train, Y_test = train_test_split(X_trans, Y, test_size=0.2)"
   ]
  },
  {
   "cell_type": "markdown",
   "id": "ba958b1b",
   "metadata": {
    "papermill": {
     "duration": 0.016834,
     "end_time": "2024-02-22T07:07:48.140110",
     "exception": false,
     "start_time": "2024-02-22T07:07:48.123276",
     "status": "completed"
    },
    "tags": []
   },
   "source": [
    "# Linear Regression:"
   ]
  },
  {
   "cell_type": "code",
   "execution_count": 19,
   "id": "2d27f6a6",
   "metadata": {
    "execution": {
     "iopub.execute_input": "2024-02-22T07:07:48.173048Z",
     "iopub.status.busy": "2024-02-22T07:07:48.172691Z",
     "iopub.status.idle": "2024-02-22T07:07:48.465487Z",
     "shell.execute_reply": "2024-02-22T07:07:48.463321Z"
    },
    "papermill": {
     "duration": 0.314809,
     "end_time": "2024-02-22T07:07:48.470195",
     "exception": false,
     "start_time": "2024-02-22T07:07:48.155386",
     "status": "completed"
    },
    "tags": []
   },
   "outputs": [],
   "source": [
    "# %% Using Linear Regression:\n",
    "\n",
    "lr = LinearRegression()\n",
    "lr.fit(X_train, Y_train)\n",
    "Y_predict = lr.predict(X_test)\n",
    "lr = r2_score(Y_test, Y_predict)"
   ]
  },
  {
   "cell_type": "markdown",
   "id": "6cb3a39e",
   "metadata": {
    "papermill": {
     "duration": 0.046034,
     "end_time": "2024-02-22T07:07:48.574249",
     "exception": false,
     "start_time": "2024-02-22T07:07:48.528215",
     "status": "completed"
    },
    "tags": []
   },
   "source": [
    "# Extra Trees Regressor:"
   ]
  },
  {
   "cell_type": "code",
   "execution_count": 20,
   "id": "a75b9836",
   "metadata": {
    "execution": {
     "iopub.execute_input": "2024-02-22T07:07:48.607390Z",
     "iopub.status.busy": "2024-02-22T07:07:48.606240Z",
     "iopub.status.idle": "2024-02-22T07:08:33.829281Z",
     "shell.execute_reply": "2024-02-22T07:08:33.828063Z"
    },
    "papermill": {
     "duration": 45.24257,
     "end_time": "2024-02-22T07:08:33.832227",
     "exception": false,
     "start_time": "2024-02-22T07:07:48.589657",
     "status": "completed"
    },
    "tags": []
   },
   "outputs": [
    {
     "name": "stderr",
     "output_type": "stream",
     "text": [
      "/tmp/ipykernel_18/3133822617.py:4: DataConversionWarning: A column-vector y was passed when a 1d array was expected. Please change the shape of y to (n_samples,), for example using ravel().\n",
      "  ET_Model.fit(X_train, Y_train)\n",
      "[Parallel(n_jobs=-1)]: Using backend ThreadingBackend with 4 concurrent workers.\n"
     ]
    },
    {
     "name": "stdout",
     "output_type": "stream",
     "text": [
      "building tree 1 of 120\n",
      "building tree 2 of 120\n",
      "building tree 3 of 120\n",
      "building tree 4 of 120\n",
      "building tree 5 of 120\n",
      "building tree 6 of 120\n",
      "building tree 7 of 120\n",
      "building tree 8 of 120\n",
      "building tree 9 of 120\n",
      "building tree 10 of 120\n",
      "building tree 11 of 120\n",
      "building tree 12 of 120\n",
      "building tree 13 of 120\n",
      "building tree 14 of 120\n",
      "building tree 15 of 120\n",
      "building tree 16 of 120\n",
      "building tree 17 of 120\n",
      "building tree 18 of 120\n",
      "building tree 19 of 120\n",
      "building tree 20 of 120\n",
      "building tree 21 of 120\n",
      "building tree 22 of 120\n",
      "building tree 23 of 120\n",
      "building tree 24 of 120\n",
      "building tree 25 of 120\n",
      "building tree 26 of 120\n",
      "building tree 27 of 120\n",
      "building tree 28 of 120\n",
      "building tree 29 of 120\n",
      "building tree 30 of 120\n",
      "building tree 31 of 120\n",
      "building tree 32 of 120\n",
      "building tree 33 of 120\n",
      "building tree 34 of 120\n",
      "building tree 35 of 120\n",
      "building tree 36 of 120\n",
      "building tree 37 of 120\n",
      "building tree 38 of 120\n",
      "building tree 39 of 120\n",
      "building tree 40 of 120\n"
     ]
    },
    {
     "name": "stderr",
     "output_type": "stream",
     "text": [
      "[Parallel(n_jobs=-1)]: Done  33 tasks      | elapsed:   13.4s\n"
     ]
    },
    {
     "name": "stdout",
     "output_type": "stream",
     "text": [
      "building tree 41 of 120\n",
      "building tree 42 of 120\n",
      "building tree 43 of 120\n",
      "building tree 44 of 120\n",
      "building tree 45 of 120\n",
      "building tree 46 of 120\n",
      "building tree 47 of 120\n",
      "building tree 48 of 120\n",
      "building tree 49 of 120\n",
      "building tree 50 of 120\n",
      "building tree 51 of 120\n",
      "building tree 52 of 120\n",
      "building tree 53 of 120\n",
      "building tree 54 of 120\n",
      "building tree 55 of 120\n",
      "building tree 56 of 120\n",
      "building tree 57 of 120\n",
      "building tree 58 of 120\n",
      "building tree 59 of 120\n",
      "building tree 60 of 120\n",
      "building tree 61 of 120\n",
      "building tree 62 of 120\n",
      "building tree 63 of 120\n",
      "building tree 64 of 120\n",
      "building tree 65 of 120\n",
      "building tree 66 of 120\n",
      "building tree 67 of 120\n",
      "building tree 68 of 120\n",
      "building tree 69 of 120\n",
      "building tree 70 of 120\n",
      "building tree 71 of 120\n",
      "building tree 72 of 120\n",
      "building tree 73 of 120\n",
      "building tree 74 of 120\n",
      "building tree 75 of 120\n",
      "building tree 76 of 120\n",
      "building tree 77 of 120\n",
      "building tree 78 of 120\n",
      "building tree 79 of 120\n",
      "building tree 80 of 120\n",
      "building tree 81 of 120\n",
      "building tree 82 of 120\n",
      "building tree 83 of 120\n",
      "building tree 84 of 120\n",
      "building tree 85 of 120\n",
      "building tree 86 of 120\n",
      "building tree 87 of 120\n",
      "building tree 88 of 120\n",
      "building tree 89 of 120\n",
      "building tree 90 of 120\n",
      "building tree 91 of 120\n",
      "building tree 92 of 120\n",
      "building tree 93 of 120\n",
      "building tree 94 of 120\n",
      "building tree 95 of 120\n",
      "building tree 96 of 120\n",
      "building tree 97 of 120\n",
      "building tree 98 of 120\n",
      "building tree 99 of 120\n",
      "building tree 100 of 120\n",
      "building tree 101 of 120\n",
      "building tree 102 of 120\n",
      "building tree 103 of 120\n",
      "building tree 104 of 120\n",
      "building tree 105 of 120\n",
      "building tree 106 of 120\n",
      "building tree 107 of 120\n",
      "building tree 108 of 120\n",
      "building tree 109 of 120\n",
      "building tree 110 of 120\n",
      "building tree 111 of 120\n",
      "building tree 112 of 120\n",
      "building tree 113 of 120\n",
      "building tree 114 of 120\n",
      "building tree 115 of 120\n",
      "building tree 116 of 120\n",
      "building tree 117 of 120\n",
      "building tree 118 of 120\n",
      "building tree 119 of 120\n",
      "building tree 120 of 120\n"
     ]
    },
    {
     "name": "stderr",
     "output_type": "stream",
     "text": [
      "[Parallel(n_jobs=-1)]: Done 120 out of 120 | elapsed:   45.0s finished\n",
      "[Parallel(n_jobs=4)]: Using backend ThreadingBackend with 4 concurrent workers.\n",
      "[Parallel(n_jobs=4)]: Done  33 tasks      | elapsed:    0.1s\n",
      "[Parallel(n_jobs=4)]: Done 120 out of 120 | elapsed:    0.2s finished\n"
     ]
    }
   ],
   "source": [
    "# %% Extra Trees Regressor:\n",
    "\n",
    "ET_Model = ExtraTreesRegressor(n_estimators=120, verbose=2, n_jobs=-1)\n",
    "ET_Model.fit(X_train, Y_train)\n",
    "Y_predict = ET_Model.predict(X_test)\n",
    "et = r2_score(Y_test, Y_predict)"
   ]
  },
  {
   "cell_type": "markdown",
   "id": "509b53c0",
   "metadata": {
    "papermill": {
     "duration": 0.018747,
     "end_time": "2024-02-22T07:08:33.870247",
     "exception": false,
     "start_time": "2024-02-22T07:08:33.851500",
     "status": "completed"
    },
    "tags": []
   },
   "source": [
    "# Random Forest Regressor:"
   ]
  },
  {
   "cell_type": "code",
   "execution_count": 21,
   "id": "f1ffc8a5",
   "metadata": {
    "execution": {
     "iopub.execute_input": "2024-02-22T07:08:33.918297Z",
     "iopub.status.busy": "2024-02-22T07:08:33.917905Z",
     "iopub.status.idle": "2024-02-22T07:10:17.395261Z",
     "shell.execute_reply": "2024-02-22T07:10:17.393643Z"
    },
    "papermill": {
     "duration": 103.501161,
     "end_time": "2024-02-22T07:10:17.398172",
     "exception": false,
     "start_time": "2024-02-22T07:08:33.897011",
     "status": "completed"
    },
    "tags": []
   },
   "outputs": [
    {
     "name": "stderr",
     "output_type": "stream",
     "text": [
      "[Parallel(n_jobs=-1)]: Using backend ThreadingBackend with 4 concurrent workers.\n"
     ]
    },
    {
     "name": "stdout",
     "output_type": "stream",
     "text": [
      "building tree 1 of 650building tree 2 of 650\n",
      "building tree 3 of 650\n",
      "\n",
      "building tree 4 of 650\n",
      "building tree 5 of 650\n",
      "building tree 6 of 650\n",
      "building tree 7 of 650\n",
      "building tree 8 of 650\n",
      "building tree 9 of 650\n",
      "building tree 10 of 650\n",
      "building tree 11 of 650\n",
      "building tree 12 of 650\n",
      "building tree 13 of 650\n",
      "building tree 14 of 650\n",
      "building tree 15 of 650\n",
      "building tree 16 of 650\n",
      "building tree 17 of 650\n",
      "building tree 18 of 650\n",
      "building tree 19 of 650\n",
      "building tree 20 of 650\n",
      "building tree 21 of 650\n",
      "building tree 22 of 650\n",
      "building tree 23 of 650\n",
      "building tree 24 of 650\n",
      "building tree 25 of 650\n",
      "building tree 26 of 650\n",
      "building tree 27 of 650\n",
      "building tree 28 of 650\n",
      "building tree 29 of 650\n",
      "building tree 30 of 650\n",
      "building tree 31 of 650\n",
      "building tree 32 of 650\n",
      "building tree 33 of 650\n",
      "building tree 34 of 650\n",
      "building tree 35 of 650\n",
      "building tree 36 of 650\n",
      "building tree 37 of 650\n",
      "building tree 38 of 650\n",
      "building tree 39 of 650\n",
      "building tree 40 of 650\n"
     ]
    },
    {
     "name": "stderr",
     "output_type": "stream",
     "text": [
      "[Parallel(n_jobs=-1)]: Done  33 tasks      | elapsed:    5.4s\n"
     ]
    },
    {
     "name": "stdout",
     "output_type": "stream",
     "text": [
      "building tree 41 of 650\n",
      "building tree 42 of 650\n",
      "building tree 43 of 650\n",
      "building tree 44 of 650\n",
      "building tree 45 of 650\n",
      "building tree 46 of 650\n",
      "building tree 47 of 650\n",
      "building tree 48 of 650\n",
      "building tree 49 of 650\n",
      "building tree 50 of 650\n",
      "building tree 51 of 650\n",
      "building tree 52 of 650\n",
      "building tree 53 of 650\n",
      "building tree 54 of 650\n",
      "building tree 55 of 650\n",
      "building tree 56 of 650\n",
      "building tree 57 of 650\n",
      "building tree 58 of 650\n",
      "building tree 59 of 650\n",
      "building tree 60 of 650\n",
      "building tree 61 of 650\n",
      "building tree 62 of 650\n",
      "building tree 63 of 650\n",
      "building tree 64 of 650\n",
      "building tree 65 of 650\n",
      "building tree 66 of 650\n",
      "building tree 67 of 650\n",
      "building tree 68 of 650\n",
      "building tree 69 of 650\n",
      "building tree 70 of 650\n",
      "building tree 71 of 650\n",
      "building tree 72 of 650\n",
      "building tree 73 of 650\n",
      "building tree 74 of 650\n",
      "building tree 75 of 650\n",
      "building tree 76 of 650\n",
      "building tree 77 of 650\n",
      "building tree 78 of 650\n",
      "building tree 79 of 650\n",
      "building tree 80 of 650\n",
      "building tree 81 of 650building tree 82 of 650\n",
      "\n",
      "building tree 83 of 650\n",
      "building tree 84 of 650\n",
      "building tree 85 of 650\n",
      "building tree 86 of 650\n",
      "building tree 87 of 650\n",
      "building tree 88 of 650\n",
      "building tree 89 of 650\n",
      "building tree 90 of 650\n",
      "building tree 91 of 650\n",
      "building tree 92 of 650\n",
      "building tree 93 of 650\n",
      "building tree 94 of 650\n",
      "building tree 95 of 650\n",
      "building tree 96 of 650\n",
      "building tree 97 of 650\n",
      "building tree 98 of 650\n",
      "building tree 99 of 650\n",
      "building tree 100 of 650\n",
      "building tree 101 of 650\n",
      "building tree 102 of 650\n",
      "building tree 103 of 650\n",
      "building tree 104 of 650\n",
      "building tree 105 of 650\n",
      "building tree 106 of 650\n",
      "building tree 107 of 650\n",
      "building tree 108 of 650\n",
      "building tree 109 of 650\n",
      "building tree 110 of 650\n",
      "building tree 111 of 650\n",
      "building tree 112 of 650\n",
      "building tree 113 of 650\n",
      "building tree 114 of 650\n",
      "building tree 115 of 650\n",
      "building tree 116 of 650\n",
      "building tree 117 of 650\n",
      "building tree 118 of 650\n",
      "building tree 119 of 650\n",
      "building tree 120 of 650\n",
      "building tree 121 of 650\n",
      "building tree 122 of 650\n",
      "building tree 123 of 650\n",
      "building tree 124 of 650\n",
      "building tree 125 of 650\n",
      "building tree 126 of 650\n",
      "building tree 127 of 650\n",
      "building tree 128 of 650\n",
      "building tree 129 of 650\n",
      "building tree 130 of 650\n",
      "building tree 131 of 650\n",
      "building tree 132 of 650\n",
      "building tree 133 of 650\n",
      "building tree 134 of 650\n",
      "building tree 135 of 650\n",
      "building tree 136 of 650\n",
      "building tree 137 of 650\n",
      "building tree 138 of 650\n",
      "building tree 139 of 650\n",
      "building tree 140 of 650\n",
      "building tree 141 of 650\n",
      "building tree 142 of 650\n",
      "building tree 143 of 650\n",
      "building tree 144 of 650\n",
      "building tree 145 of 650\n",
      "building tree 146 of 650\n",
      "building tree 147 of 650\n",
      "building tree 148 of 650\n",
      "building tree 149 of 650\n",
      "building tree 150 of 650\n",
      "building tree 151 of 650\n",
      "building tree 152 of 650\n",
      "building tree 153 of 650\n",
      "building tree 154 of 650\n",
      "building tree 155 of 650\n",
      "building tree 156 of 650\n",
      "building tree 157 of 650\n",
      "building tree 158 of 650\n",
      "building tree 159 of 650\n"
     ]
    },
    {
     "name": "stderr",
     "output_type": "stream",
     "text": [
      "[Parallel(n_jobs=-1)]: Done 154 tasks      | elapsed:   24.8s\n"
     ]
    },
    {
     "name": "stdout",
     "output_type": "stream",
     "text": [
      "building tree 160 of 650\n",
      "building tree 161 of 650\n",
      "building tree 162 of 650\n",
      "building tree 163 of 650\n",
      "building tree 164 of 650\n",
      "building tree 165 of 650\n",
      "building tree 166 of 650\n",
      "building tree 167 of 650\n",
      "building tree 168 of 650\n",
      "building tree 169 of 650\n",
      "building tree 170 of 650\n",
      "building tree 171 of 650\n",
      "building tree 172 of 650\n",
      "building tree 173 of 650\n",
      "building tree 174 of 650\n",
      "building tree 175 of 650\n",
      "building tree 176 of 650\n",
      "building tree 177 of 650\n",
      "building tree 178 of 650\n",
      "building tree 179 of 650\n",
      "building tree 180 of 650\n",
      "building tree 181 of 650\n",
      "building tree 182 of 650\n",
      "building tree 183 of 650\n",
      "building tree 184 of 650\n",
      "building tree 185 of 650\n",
      "building tree 186 of 650\n",
      "building tree 187 of 650\n",
      "building tree 188 of 650\n",
      "building tree 189 of 650\n",
      "building tree 190 of 650\n",
      "building tree 191 of 650\n",
      "building tree 192 of 650\n",
      "building tree 193 of 650\n",
      "building tree 194 of 650\n",
      "building tree 195 of 650\n",
      "building tree 196 of 650\n",
      "building tree 197 of 650\n",
      "building tree 198 of 650\n",
      "building tree 199 of 650\n",
      "building tree 200 of 650\n",
      "building tree 201 of 650\n",
      "building tree 202 of 650\n",
      "building tree 203 of 650\n",
      "building tree 204 of 650\n",
      "building tree 205 of 650\n",
      "building tree 206 of 650\n",
      "building tree 207 of 650\n",
      "building tree 208 of 650\n",
      "building tree 209 of 650\n",
      "building tree 210 of 650\n",
      "building tree 211 of 650\n",
      "building tree 212 of 650\n",
      "building tree 213 of 650\n",
      "building tree 214 of 650\n",
      "building tree 215 of 650\n",
      "building tree 216 of 650\n",
      "building tree 217 of 650\n",
      "building tree 218 of 650\n",
      "building tree 219 of 650\n",
      "building tree 220 of 650\n",
      "building tree 221 of 650\n",
      "building tree 222 of 650\n",
      "building tree 223 of 650\n",
      "building tree 224 of 650\n",
      "building tree 225 of 650\n",
      "building tree 226 of 650\n",
      "building tree 227 of 650\n",
      "building tree 228 of 650\n",
      "building tree 229 of 650\n",
      "building tree 230 of 650\n",
      "building tree 231 of 650\n",
      "building tree 232 of 650\n",
      "building tree 233 of 650\n",
      "building tree 234 of 650\n",
      "building tree 235 of 650\n",
      "building tree 236 of 650\n",
      "building tree 237 of 650\n",
      "building tree 238 of 650\n",
      "building tree 239 of 650\n",
      "building tree 240 of 650\n",
      "building tree 241 of 650\n",
      "building tree 242 of 650\n",
      "building tree 243 of 650\n",
      "building tree 244 of 650\n",
      "building tree 245 of 650\n",
      "building tree 246 of 650\n",
      "building tree 247 of 650\n",
      "building tree 248 of 650\n",
      "building tree 249 of 650\n",
      "building tree 250 of 650\n",
      "building tree 251 of 650\n",
      "building tree 252 of 650\n",
      "building tree 253 of 650\n",
      "building tree 254 of 650\n",
      "building tree 255 of 650\n",
      "building tree 256 of 650\n",
      "building tree 257 of 650\n",
      "building tree 258 of 650\n",
      "building tree 259 of 650\n",
      "building tree 260 of 650\n",
      "building tree 261 of 650\n",
      "building tree 262 of 650\n",
      "building tree 263 of 650\n",
      "building tree 264 of 650\n",
      "building tree 265 of 650\n",
      "building tree 266 of 650\n",
      "building tree 267 of 650\n",
      "building tree 268 of 650\n",
      "building tree 269 of 650\n",
      "building tree 270 of 650\n",
      "building tree 271 of 650\n",
      "building tree 272 of 650\n",
      "building tree 273 of 650\n",
      "building tree 274 of 650\n",
      "building tree 275 of 650\n",
      "building tree 276 of 650\n",
      "building tree 277 of 650\n",
      "building tree 278 of 650\n",
      "building tree 279 of 650\n",
      "building tree 280 of 650\n",
      "building tree 281 of 650\n",
      "building tree 282 of 650\n",
      "building tree 283 of 650\n",
      "building tree 284 of 650\n",
      "building tree 285 of 650\n",
      "building tree 286 of 650\n",
      "building tree 287 of 650\n",
      "building tree 288 of 650\n",
      "building tree 289 of 650\n",
      "building tree 290 of 650\n",
      "building tree 291 of 650\n",
      "building tree 292 of 650\n",
      "building tree 293 of 650\n",
      "building tree 294 of 650\n",
      "building tree 295 of 650\n",
      "building tree 296 of 650\n",
      "building tree 297 of 650\n",
      "building tree 298 of 650\n",
      "building tree 299 of 650\n",
      "building tree 300 of 650\n",
      "building tree 301 of 650\n",
      "building tree 302 of 650\n",
      "building tree 303 of 650\n",
      "building tree 304 of 650\n",
      "building tree 305 of 650\n",
      "building tree 306 of 650\n",
      "building tree 307 of 650\n",
      "building tree 308 of 650\n",
      "building tree 309 of 650\n",
      "building tree 310 of 650\n",
      "building tree 311 of 650\n",
      "building tree 312 of 650\n",
      "building tree 313 of 650\n",
      "building tree 314 of 650\n",
      "building tree 315 of 650\n",
      "building tree 316 of 650\n",
      "building tree 317 of 650\n",
      "building tree 318 of 650\n",
      "building tree 319 of 650\n",
      "building tree 320 of 650\n",
      "building tree 321 of 650\n",
      "building tree 322 of 650\n",
      "building tree 323 of 650\n",
      "building tree 324 of 650\n",
      "building tree 325 of 650\n",
      "building tree 326 of 650\n",
      "building tree 327 of 650\n",
      "building tree 328 of 650\n",
      "building tree 329 of 650\n",
      "building tree 330 of 650\n",
      "building tree 331 of 650\n",
      "building tree 332 of 650\n",
      "building tree 333 of 650\n",
      "building tree 334 of 650\n",
      "building tree 335 of 650\n",
      "building tree 336 of 650\n",
      "building tree 337 of 650\n",
      "building tree 338 of 650\n",
      "building tree 339 of 650\n",
      "building tree 340 of 650\n",
      "building tree 341 of 650\n",
      "building tree 342 of 650\n",
      "building tree 343 of 650\n",
      "building tree 344 of 650\n",
      "building tree 345 of 650\n",
      "building tree 346 of 650\n",
      "building tree 347 of 650\n",
      "building tree 348 of 650\n",
      "building tree 349 of 650\n",
      "building tree 350 of 650\n",
      "building tree 351 of 650\n",
      "building tree 352 of 650\n",
      "building tree 353 of 650\n",
      "building tree 354 of 650\n",
      "building tree 355 of 650\n",
      "building tree 356 of 650\n",
      "building tree 357 of 650\n",
      "building tree 358 of 650\n",
      "building tree 359 of 650\n",
      "building tree 360 of 650\n",
      "building tree 361 of 650\n",
      "building tree 362 of 650\n",
      "building tree 363 of 650\n"
     ]
    },
    {
     "name": "stderr",
     "output_type": "stream",
     "text": [
      "[Parallel(n_jobs=-1)]: Done 357 tasks      | elapsed:   57.8s\n"
     ]
    },
    {
     "name": "stdout",
     "output_type": "stream",
     "text": [
      "building tree 364 of 650\n",
      "building tree 365 of 650\n",
      "building tree 366 of 650\n",
      "building tree 367 of 650\n",
      "building tree 368 of 650\n",
      "building tree 369 of 650\n",
      "building tree 370 of 650\n",
      "building tree 371 of 650\n",
      "building tree 372 of 650\n",
      "building tree 373 of 650\n",
      "building tree 374 of 650\n",
      "building tree 375 of 650\n",
      "building tree 376 of 650\n",
      "building tree 377 of 650\n",
      "building tree 378 of 650\n",
      "building tree 379 of 650\n",
      "building tree 380 of 650\n",
      "building tree 381 of 650\n",
      "building tree 382 of 650\n",
      "building tree 383 of 650\n",
      "building tree 384 of 650\n",
      "building tree 385 of 650\n",
      "building tree 386 of 650\n",
      "building tree 387 of 650\n",
      "building tree 388 of 650\n",
      "building tree 389 of 650\n",
      "building tree 390 of 650\n",
      "building tree 391 of 650\n",
      "building tree 392 of 650\n",
      "building tree 393 of 650\n",
      "building tree 394 of 650\n",
      "building tree 395 of 650\n",
      "building tree 396 of 650\n",
      "building tree 397 of 650\n",
      "building tree 398 of 650\n",
      "building tree 399 of 650\n",
      "building tree 400 of 650\n",
      "building tree 401 of 650\n",
      "building tree 402 of 650\n",
      "building tree 403 of 650\n",
      "building tree 404 of 650\n",
      "building tree 405 of 650\n",
      "building tree 406 of 650\n",
      "building tree 407 of 650\n",
      "building tree 408 of 650\n",
      "building tree 409 of 650\n",
      "building tree 410 of 650\n",
      "building tree 411 of 650\n",
      "building tree 412 of 650\n",
      "building tree 413 of 650\n",
      "building tree 414 of 650\n",
      "building tree 415 of 650\n",
      "building tree 416 of 650\n",
      "building tree 417 of 650\n",
      "building tree 418 of 650\n",
      "building tree 419 of 650\n",
      "building tree 420 of 650\n",
      "building tree 421 of 650\n",
      "building tree 422 of 650\n",
      "building tree 423 of 650\n",
      "building tree 424 of 650\n",
      "building tree 425 of 650\n",
      "building tree 426 of 650\n",
      "building tree 427 of 650\n",
      "building tree 428 of 650\n",
      "building tree 429 of 650\n",
      "building tree 430 of 650\n",
      "building tree 431 of 650\n",
      "building tree 432 of 650\n",
      "building tree 433 of 650\n",
      "building tree 434 of 650\n",
      "building tree 435 of 650\n",
      "building tree 436 of 650\n",
      "building tree 437 of 650\n",
      "building tree 438 of 650\n",
      "building tree 439 of 650\n",
      "building tree 440 of 650\n",
      "building tree 441 of 650\n",
      "building tree 442 of 650\n",
      "building tree 443 of 650\n",
      "building tree 444 of 650\n",
      "building tree 445 of 650\n",
      "building tree 446 of 650\n",
      "building tree 447 of 650\n",
      "building tree 448 of 650\n",
      "building tree 449 of 650\n",
      "building tree 450 of 650\n",
      "building tree 451 of 650\n",
      "building tree 452 of 650\n",
      "building tree 453 of 650\n",
      "building tree 454 of 650\n",
      "building tree 455 of 650\n",
      "building tree 456 of 650\n",
      "building tree 457 of 650\n",
      "building tree 458 of 650\n",
      "building tree 459 of 650\n",
      "building tree 460 of 650\n",
      "building tree 461 of 650\n",
      "building tree 462 of 650\n",
      "building tree 463 of 650\n",
      "building tree 464 of 650\n",
      "building tree 465 of 650\n",
      "building tree 466 of 650\n",
      "building tree 467 of 650\n",
      "building tree 468 of 650\n",
      "building tree 469 of 650\n",
      "building tree 470 of 650\n",
      "building tree 471 of 650\n",
      "building tree 472 of 650\n",
      "building tree 473 of 650\n",
      "building tree 474 of 650\n",
      "building tree 475 of 650\n",
      "building tree 476 of 650\n",
      "building tree 477 of 650\n",
      "building tree 478 of 650\n",
      "building tree 479 of 650\n",
      "building tree 480 of 650\n",
      "building tree 481 of 650\n",
      "building tree 482 of 650\n",
      "building tree 483 of 650\n",
      "building tree 484 of 650\n",
      "building tree 485 of 650\n",
      "building tree 486 of 650\n",
      "building tree 487 of 650\n",
      "building tree 488 of 650\n",
      "building tree 489 of 650\n",
      "building tree 490 of 650\n",
      "building tree 491 of 650\n",
      "building tree 492 of 650\n",
      "building tree 493 of 650\n",
      "building tree 494 of 650\n",
      "building tree 495 of 650\n",
      "building tree 496 of 650\n",
      "building tree 497 of 650\n",
      "building tree 498 of 650\n",
      "building tree 499 of 650\n",
      "building tree 500 of 650\n",
      "building tree 501 of 650\n",
      "building tree 502 of 650\n",
      "building tree 503 of 650\n",
      "building tree 504 of 650\n",
      "building tree 505 of 650\n",
      "building tree 506 of 650\n",
      "building tree 507 of 650\n",
      "building tree 508 of 650\n",
      "building tree 509 of 650\n",
      "building tree 510 of 650\n",
      "building tree 511 of 650\n",
      "building tree 512 of 650\n",
      "building tree 513 of 650\n",
      "building tree 514 of 650\n",
      "building tree 515 of 650\n",
      "building tree 516 of 650\n",
      "building tree 517 of 650\n",
      "building tree 518 of 650\n",
      "building tree 519 of 650\n",
      "building tree 520 of 650\n",
      "building tree 521 of 650\n",
      "building tree 522 of 650\n",
      "building tree 523 of 650\n",
      "building tree 524 of 650\n",
      "building tree 525 of 650\n",
      "building tree 526 of 650\n",
      "building tree 527 of 650\n",
      "building tree 528 of 650\n",
      "building tree 529 of 650\n",
      "building tree 530 of 650\n",
      "building tree 531 of 650\n",
      "building tree 532 of 650\n",
      "building tree 533 of 650\n",
      "building tree 534 of 650\n",
      "building tree 535 of 650\n",
      "building tree 536 of 650\n",
      "building tree 537 of 650\n",
      "building tree 538 of 650\n",
      "building tree 539 of 650\n",
      "building tree 540 of 650\n",
      "building tree 541 of 650\n",
      "building tree 542 of 650\n",
      "building tree 543 of 650\n",
      "building tree 544 of 650\n",
      "building tree 545 of 650\n",
      "building tree 546 of 650\n",
      "building tree 547 of 650\n",
      "building tree 548 of 650\n",
      "building tree 549 of 650\n",
      "building tree 550 of 650\n",
      "building tree 551 of 650\n",
      "building tree 552 of 650\n",
      "building tree 553 of 650\n",
      "building tree 554 of 650\n",
      "building tree 555 of 650\n",
      "building tree 556 of 650\n",
      "building tree 557 of 650\n",
      "building tree 558 of 650\n",
      "building tree 559 of 650\n",
      "building tree 560 of 650\n",
      "building tree 561 of 650\n",
      "building tree 562 of 650\n",
      "building tree 563 of 650\n",
      "building tree 564 of 650\n",
      "building tree 565 of 650\n",
      "building tree 566 of 650\n",
      "building tree 567 of 650\n",
      "building tree 568 of 650\n",
      "building tree 569 of 650\n",
      "building tree 570 of 650\n",
      "building tree 571 of 650\n",
      "building tree 572 of 650\n",
      "building tree 573 of 650\n",
      "building tree 574 of 650\n",
      "building tree 575 of 650\n",
      "building tree 576 of 650\n",
      "building tree 577 of 650\n",
      "building tree 578 of 650\n",
      "building tree 579 of 650\n",
      "building tree 580 of 650\n",
      "building tree 581 of 650\n",
      "building tree 582 of 650\n",
      "building tree 583 of 650\n",
      "building tree 584 of 650\n",
      "building tree 585 of 650\n",
      "building tree 586 of 650\n",
      "building tree 587 of 650\n",
      "building tree 588 of 650\n",
      "building tree 589 of 650\n",
      "building tree 590 of 650\n",
      "building tree 591 of 650\n",
      "building tree 592 of 650\n",
      "building tree 593 of 650\n",
      "building tree 594 of 650\n",
      "building tree 595 of 650\n",
      "building tree 596 of 650\n",
      "building tree 597 of 650\n",
      "building tree 598 of 650\n",
      "building tree 599 of 650\n",
      "building tree 600 of 650\n",
      "building tree 601 of 650\n",
      "building tree 602 of 650\n",
      "building tree 603 of 650\n",
      "building tree 604 of 650\n",
      "building tree 605 of 650\n",
      "building tree 606 of 650\n",
      "building tree 607 of 650\n",
      "building tree 608 of 650\n",
      "building tree 609 of 650\n",
      "building tree 610 of 650\n",
      "building tree 611 of 650\n",
      "building tree 612 of 650\n",
      "building tree 613 of 650\n",
      "building tree 614 of 650\n",
      "building tree 615 of 650\n",
      "building tree 616 of 650\n",
      "building tree 617 of 650\n",
      "building tree 618 of 650\n",
      "building tree 619 of 650\n",
      "building tree 620 of 650\n",
      "building tree 621 of 650\n",
      "building tree 622 of 650\n",
      "building tree 623 of 650\n",
      "building tree 624 of 650\n",
      "building tree 625 of 650\n",
      "building tree 626 of 650\n",
      "building tree 627 of 650\n",
      "building tree 628 of 650\n",
      "building tree 629 of 650\n",
      "building tree 630 of 650\n",
      "building tree 631 of 650\n",
      "building tree 632 of 650\n",
      "building tree 633 of 650\n",
      "building tree 634 of 650\n",
      "building tree 635 of 650\n",
      "building tree 636 of 650\n",
      "building tree 637 of 650\n",
      "building tree 638 of 650\n",
      "building tree 639 of 650\n",
      "building tree 640 of 650\n",
      "building tree 641 of 650\n",
      "building tree 642 of 650\n",
      "building tree 643 of 650\n",
      "building tree 644 of 650\n"
     ]
    },
    {
     "name": "stderr",
     "output_type": "stream",
     "text": [
      "[Parallel(n_jobs=-1)]: Done 640 tasks      | elapsed:  1.7min\n"
     ]
    },
    {
     "name": "stdout",
     "output_type": "stream",
     "text": [
      "building tree 645 of 650\n",
      "building tree 646 of 650\n",
      "building tree 647 of 650\n",
      "building tree 648 of 650\n",
      "building tree 649 of 650\n",
      "building tree 650 of 650\n"
     ]
    },
    {
     "name": "stderr",
     "output_type": "stream",
     "text": [
      "[Parallel(n_jobs=-1)]: Done 650 out of 650 | elapsed:  1.7min finished\n",
      "[Parallel(n_jobs=4)]: Using backend ThreadingBackend with 4 concurrent workers.\n",
      "[Parallel(n_jobs=4)]: Done  33 tasks      | elapsed:    0.0s\n",
      "[Parallel(n_jobs=4)]: Done 154 tasks      | elapsed:    0.1s\n",
      "[Parallel(n_jobs=4)]: Done 357 tasks      | elapsed:    0.3s\n",
      "[Parallel(n_jobs=4)]: Done 640 tasks      | elapsed:    0.5s\n",
      "[Parallel(n_jobs=4)]: Done 650 out of 650 | elapsed:    0.5s finished\n"
     ]
    }
   ],
   "source": [
    "# %% Random Forest Regressor:\n",
    "\n",
    "RF_Model = RandomForestRegressor(n_estimators=650, random_state=245, min_samples_leaf=.0001, verbose=2, n_jobs=-1)\n",
    "RF_Model.fit(X_train, Y_train.ravel())\n",
    "Y_predict = RF_Model.predict(X_test)\n",
    "rf = r2_score(Y_test, Y_predict)"
   ]
  },
  {
   "cell_type": "markdown",
   "id": "591b7350",
   "metadata": {
    "papermill": {
     "duration": 0.041644,
     "end_time": "2024-02-22T07:10:17.482568",
     "exception": false,
     "start_time": "2024-02-22T07:10:17.440924",
     "status": "completed"
    },
    "tags": []
   },
   "source": [
    "# XGB Regressor:"
   ]
  },
  {
   "cell_type": "code",
   "execution_count": 22,
   "id": "35fba52b",
   "metadata": {
    "execution": {
     "iopub.execute_input": "2024-02-22T07:10:17.568517Z",
     "iopub.status.busy": "2024-02-22T07:10:17.567831Z",
     "iopub.status.idle": "2024-02-22T07:10:35.109950Z",
     "shell.execute_reply": "2024-02-22T07:10:35.108991Z"
    },
    "papermill": {
     "duration": 17.588017,
     "end_time": "2024-02-22T07:10:35.112866",
     "exception": false,
     "start_time": "2024-02-22T07:10:17.524849",
     "status": "completed"
    },
    "tags": []
   },
   "outputs": [
    {
     "name": "stdout",
     "output_type": "stream",
     "text": [
      "[07:10:17] ======== Monitor (0): HostSketchContainer ========\n",
      "[07:10:17] AllReduce: 0.001884s, 1 calls @ 1884us\n",
      "\n",
      "[07:10:17] MakeCuts: 0.00204s, 1 calls @ 2040us\n",
      "\n",
      "[07:10:17] DEBUG: /workspace/src/gbm/gbtree.cc:130: Using tree method: 0\n",
      "[07:10:34] ======== Monitor (0): Learner ========\n",
      "[07:10:34] Configure: 0.002752s, 1 calls @ 2752us\n",
      "\n",
      "[07:10:34] EvalOneIter: 0.02956s, 2000 calls @ 29560us\n",
      "\n",
      "[07:10:34] GetGradient: 0.083074s, 2000 calls @ 83074us\n",
      "\n",
      "[07:10:34] PredictRaw: 0.004177s, 2000 calls @ 4177us\n",
      "\n",
      "[07:10:34] UpdateOneIter: 16.7316s, 2000 calls @ 16731563us\n",
      "\n",
      "[07:10:34] ======== Monitor (0): GBTree ========\n",
      "[07:10:34] BoostNewTrees: 16.6214s, 2000 calls @ 16621373us\n",
      "\n",
      "[07:10:34] CommitModel: 0.002042s, 2000 calls @ 2042us\n",
      "\n",
      "[07:10:34] ======== Monitor (0): HistUpdater ========\n",
      "[07:10:34] BuildHistogram: 4.71146s, 7620 calls @ 4711463us\n",
      "\n",
      "[07:10:34] EvaluateSplits: 0.797146s, 9620 calls @ 797146us\n",
      "\n",
      "[07:10:34] InitData: 0.115342s, 2000 calls @ 115342us\n",
      "\n",
      "[07:10:34] InitRoot: 9.70019s, 2000 calls @ 9700187us\n",
      "\n",
      "[07:10:34] LeafPartition: 0.000788s, 2000 calls @ 788us\n",
      "\n",
      "[07:10:34] UpdatePosition: 1.13189s, 9144 calls @ 1131889us\n",
      "\n",
      "[07:10:34] UpdatePredictionCache: 0.104926s, 2000 calls @ 104926us\n",
      "\n",
      "[07:10:34] UpdateTree: 16.4813s, 2000 calls @ 16481257us\n",
      "\n",
      "[07:10:34] DEBUG: /workspace/src/gbm/gbtree.cc:130: Using tree method: 0\n"
     ]
    }
   ],
   "source": [
    "# %% XGB Regressor:\n",
    "\n",
    "xgb_r = xg.XGBRegressor(n_estimators=2000, verbosity=3, n_jobs=-1)\n",
    "xgb_r.fit(X_train, Y_train)\n",
    "Y_predict = xgb_r.predict(X_test)\n",
    "xbr = r2_score(Y_test, Y_predict)"
   ]
  },
  {
   "cell_type": "markdown",
   "id": "8acd6cc5",
   "metadata": {
    "papermill": {
     "duration": 0.041321,
     "end_time": "2024-02-22T07:10:35.197729",
     "exception": false,
     "start_time": "2024-02-22T07:10:35.156408",
     "status": "completed"
    },
    "tags": []
   },
   "source": [
    "# Final Results:\n",
    "By getting the prediction results, the highest accuracy is obtained by using :"
   ]
  },
  {
   "cell_type": "code",
   "execution_count": 23,
   "id": "3f445991",
   "metadata": {
    "execution": {
     "iopub.execute_input": "2024-02-22T07:10:35.283772Z",
     "iopub.status.busy": "2024-02-22T07:10:35.283361Z",
     "iopub.status.idle": "2024-02-22T07:10:35.289631Z",
     "shell.execute_reply": "2024-02-22T07:10:35.288383Z"
    },
    "papermill": {
     "duration": 0.052483,
     "end_time": "2024-02-22T07:10:35.292616",
     "exception": false,
     "start_time": "2024-02-22T07:10:35.240133",
     "status": "completed"
    },
    "tags": []
   },
   "outputs": [
    {
     "name": "stdout",
     "output_type": "stream",
     "text": [
      "The R2 score of Linear Regression:  0.5336887624738835\n",
      "The R2 score of Random Forest:  0.8544529122622648\n",
      "The R2 score of Extra Tree:  0.9065818662886349\n",
      "The R2 score of XGB Regression:  0.9194634020720406\n"
     ]
    }
   ],
   "source": [
    "# %% Printing the Accuracy of Models:\n",
    "\n",
    "print(\"The R2 score of Linear Regression: \", lr)\n",
    "print(\"The R2 score of Random Forest: \", rf)\n",
    "print(\"The R2 score of Extra Tree: \", et)\n",
    "print(\"The R2 score of XGB Regression: \", xbr)"
   ]
  },
  {
   "cell_type": "markdown",
   "id": "4ede43f5",
   "metadata": {
    "papermill": {
     "duration": 0.041874,
     "end_time": "2024-02-22T07:10:35.377961",
     "exception": false,
     "start_time": "2024-02-22T07:10:35.336087",
     "status": "completed"
    },
    "tags": []
   },
   "source": [
    "Thus the final highest accuracy in predicting the Approximate cost for 2 people to dine in is 0.92."
   ]
  }
 ],
 "metadata": {
  "kaggle": {
   "accelerator": "none",
   "dataSources": [
    {
     "datasetId": 2587567,
     "sourceId": 4416866,
     "sourceType": "datasetVersion"
    }
   ],
   "dockerImageVersionId": 30646,
   "isGpuEnabled": false,
   "isInternetEnabled": true,
   "language": "python",
   "sourceType": "notebook"
  },
  "kernelspec": {
   "display_name": "Python 3",
   "language": "python",
   "name": "python3"
  },
  "language_info": {
   "codemirror_mode": {
    "name": "ipython",
    "version": 3
   },
   "file_extension": ".py",
   "mimetype": "text/x-python",
   "name": "python",
   "nbconvert_exporter": "python",
   "pygments_lexer": "ipython3",
   "version": "3.10.13"
  },
  "papermill": {
   "default_parameters": {},
   "duration": 194.124334,
   "end_time": "2024-02-22T07:10:36.243717",
   "environment_variables": {},
   "exception": null,
   "input_path": "__notebook__.ipynb",
   "output_path": "__notebook__.ipynb",
   "parameters": {},
   "start_time": "2024-02-22T07:07:22.119383",
   "version": "2.5.0"
  }
 },
 "nbformat": 4,
 "nbformat_minor": 5
}
